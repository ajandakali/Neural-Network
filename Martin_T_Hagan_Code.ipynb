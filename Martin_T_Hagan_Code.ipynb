{
  "nbformat": 4,
  "nbformat_minor": 0,
  "metadata": {
    "colab": {
      "provenance": []
    },
    "kernelspec": {
      "name": "python3",
      "display_name": "Python 3"
    },
    "language_info": {
      "name": "python"
    }
  },
  "cells": [
    {
      "cell_type": "code",
      "execution_count": null,
      "metadata": {
        "id": "_gzvLJWqWRKb"
      },
      "outputs": [],
      "source": [
        "#In this file, Hagan's exercises will be implemented with Python or Julia."
      ]
    }
  ]
}